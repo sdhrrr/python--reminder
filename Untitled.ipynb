{
 "cells": [
  {
   "cell_type": "markdown",
   "id": "c821a740",
   "metadata": {},
   "source": [
    "#  Project Name : Subtle Reminder"
   ]
  },
  {
   "cell_type": "markdown",
   "id": "24f051e0",
   "metadata": {},
   "source": [
    "## Description\n",
    "###  This project provide user a command like system go give command in terminal  to set reminder and to provide meaning of word periodically after a certian time"
   ]
  },
  {
   "cell_type": "markdown",
   "id": "c10db8d9",
   "metadata": {},
   "source": [
    "## How to use\n",
    "### after runing program the program will ask for commands \n",
    "### There are two commands\n",
    "### 1. remind < time in seconds > < message to be Reminded >\n",
    "### This command sets a reminder for n second and displayes the message given for example command \"remind 30 go to school\" will remind message go to school after 30 seconds \n",
    "## Note : Minutes must be converted into seconds before entering\n",
    "### 2. remindword < Time in seconds >\n",
    "### This command will provide a new word with its meaning Periodically after a set time example command \" remindword 120\" this will provide  a word with its meaning every two minutes\n",
    "## Note : This command only works with active internet connetion         "
   ]
  },
  {
   "cell_type": "markdown",
   "id": "c7ba80aa",
   "metadata": {},
   "source": [
    "# Code\n",
    "# Note : To run the code must install PyDictionary and Plyer librares\n"
   ]
  },
  {
   "cell_type": "code",
   "execution_count": null,
   "id": "ba54170a",
   "metadata": {},
   "outputs": [],
   "source": [
    "from PyDictionary import PyDictionary #imports pydictionry module which is used to get meaning of word\n",
    "from plyer import notification #imports notification module which is used to provide notificatons for user\n",
    "import random\n",
    "import time\n",
    "\n",
    "\n",
    "file = open('words.txt','r') #opens words.txt in read mode\n",
    "words = file.read().split(',') # turns data in words.txt into usefull format\n",
    "file.close() # closes a file\n",
    "\n",
    "# creates a function notify_word which takes a integer as input\n",
    "# notifies user with the meaning of random word\n",
    "def nofify_word(sec:int):\n",
    "    rand_word = words[random.randrange(0,len(words)-1)].strip('\\n') # generates random word using random module\n",
    "    dictionary = PyDictionary()# creates pydictionary instance\n",
    "    keys = list(dictionary.meaning(rand_word).keys())\n",
    "    meaning = dictionary.meaning(rand_word)[keys[0]][0] # gets meaning of  random word from pydictionary\n",
    "\n",
    "    # give a notification to the user\n",
    "    notification.notify(\n",
    "        title = rand_word,\n",
    "        message = meaning,\n",
    "        app_icon = 'time.ico',\n",
    "        app_name = 'reminder',\n",
    "        timeout = 6\n",
    "    )\n",
    "    time.sleep(sec) # puts the program in to sleep for given input\n",
    "# creates a function reminder which takes sec and mssg as inputs\n",
    "# remindes user the message after the given time\n",
    "def reminder(sec:int,mssg:str):\n",
    "    time.sleep(sec)\n",
    "    #notifys user\n",
    "    notification.notify(\n",
    "        title = 'Reminder',\n",
    "        app_icon = 'time.ico',\n",
    "        message = mssg,\n",
    "        timeout = 4\n",
    "    )\n",
    "\n",
    "print('Enter command\\n1. remind <time in seconds> <message to be reminded>\\n2. remindword <time in seconds>')\n",
    "while True:# runs infinite loop\n",
    "    command = str(input('> ')) # takes input as string\n",
    "\n",
    "    if 'remind' in command or 'Remind' in command: #check if remind in command string\n",
    "        command = command.split(' ',2) #splits array at 2 spaces maximum ang returns a array\n",
    "    else:\n",
    "        command = command.split(' ') #splits array at spaces\n",
    "\n",
    "\n",
    "    if (command[0] == 'remind' or command[0] == 'Remind') and len(command) ==3:\n",
    "        if command[1].isdigit(): #checks if second element in command is a number\n",
    "            print('DO NOT CLOSE KEEP RUNING IN BACKGROUND TO WORK',f'Will be Reminded after {command[1]} Seconds...')\n",
    "            reminder(int(command[1]),command[2]) #calling reminder function\n",
    "        else:\n",
    "            print('Enter valid parameters')\n",
    "    elif command[0] == 'remindword' and len(command) == 2: #check if first element in command is remindword\n",
    "        if command[1].isdigit(): #checks if second element of command is a number\n",
    "            print('DO NOT CLOSE KEEP RUNING IN BACKGROUND TO WORK',f'Remind words every {command[1]} Seconds...')\n",
    "            while True: # runs infinite loop to notify a word periodically to user\n",
    "                try:#catches any error\n",
    "                    nofify_word(int(command[1]))#calling function notify word\n",
    "                except AttributeError: # excepts AttributeError and runs the below block of code\n",
    "                    print('Check your internet connection') #message to print when there is error\n",
    "    else:\n",
    "        print('enter a valid command')"
   ]
  },
  {
   "cell_type": "markdown",
   "id": "45fa7cc0",
   "metadata": {},
   "source": [
    "# Output\n",
    "### 1. For remind command that is remind < time in seconds > < message > user will get output in the form of windows notification\n",
    "### and  prints 'DO NOT CLOSE KEEP RUNING IN BACKGROUND TO WORK',f'Will be Reminded after {Given input seconds} Seconds... will be printed in terminal'\n",
    "### 2. For remindword command that is remindword < time in seconds > user will get output in form of windows notification periodically\n",
    "### and  prints 'DO NOT CLOSE KEEP RUNING IN BACKGROUND TO WORK',f'Remind words every {given input time} Seconds...'"
   ]
  },
  {
   "cell_type": "markdown",
   "id": "cd8082ea",
   "metadata": {},
   "source": [
    "# Team members\n",
    "## CLASS:- K22MD(G1)\n",
    "## 1. vanam chandra shekar  12206976  Roll no : 13\n",
    "## 2 J.Sudheer  12206921  Roll no :10"
   ]
  }
 ],
 "metadata": {
  "kernelspec": {
   "display_name": "Python 3 (ipykernel)",
   "language": "python",
   "name": "python3"
  },
  "language_info": {
   "codemirror_mode": {
    "name": "ipython",
    "version": 3
   },
   "file_extension": ".py",
   "mimetype": "text/x-python",
   "name": "python",
   "nbconvert_exporter": "python",
   "pygments_lexer": "ipython3",
   "version": "3.11.0"
  }
 },
 "nbformat": 4,
 "nbformat_minor": 5
}
